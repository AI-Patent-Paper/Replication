{
 "cells": [
  {
   "cell_type": "code",
   "execution_count": 36,
   "id": "35d62b7b",
   "metadata": {},
   "outputs": [
    {
     "name": "stderr",
     "output_type": "stream",
     "text": [
      "[nltk_data] Error loading punkt: <urlopen error [Errno 111] Connection\n",
      "[nltk_data]     refused>\n"
     ]
    }
   ],
   "source": [
    "import pandas as pd\n",
    "import numpy as np\n",
    "import pickle\n",
    "\n",
    "import math\n",
    "from datetime import datetime\n",
    "\n",
    "import seaborn as sns\n",
    "import matplotlib.pyplot as plt\n",
    "\n",
    "\n",
    "from collections import Counter\n",
    "from itertools import chain\n",
    "from scipy.optimize import curve_fit\n",
    "import powerlaw\n",
    "\n",
    "from rapidfuzz import process, fuzz\n",
    "from sentence_transformers import SentenceTransformer\n",
    "model = SentenceTransformer('sentence-transformers_all-MiniLM-L6-v2')\n",
    "import oracledb\n",
    "connection = oracledb.connect(user=\"\", password=\"\", host=\"\",port=,service_name=\"\")\n",
    "\n",
    "import oracledb\n",
    "from sqlalchemy import create_engine\n",
    "import cx_Oracle\n",
    "from tqdm import tqdm\n",
    "\n",
    "from sentence_transformers.util import cos_sim\n",
    "import seaborn as sns\n",
    "import matplotlib.pyplot as plt\n",
    "from matplotlib.font_manager import FontProperties\n",
    "from powerlaw import Fit, plot_pdf\n",
    "\n",
    "from tqdm import tqdm\n",
    "import re\n",
    "import os\n",
    "from keybert import KeyBERT\n",
    "kw_model = KeyBERT(model=model)\n",
    "\n",
    "from sklearn.metrics import confusion_matrix\n",
    "from sklearn.metrics import precision_score, recall_score, f1_score, accuracy_score, roc_curve,precision_recall_curve, auc\n",
    "from sklearn.model_selection import train_test_split\n",
    "from sklearn.linear_model import LogisticRegression\n",
    "\n",
    "import nltk\n",
    "from nltk.tokenize import word_tokenize\n",
    "from nltk.stem import PorterStemmer\n",
    "# 下载NLTK的punkt数据\n",
    "nltk.download('punkt')\n",
    "stemmer = PorterStemmer()\n",
    "\n",
    "from transformers import AutoTokenizer, AutoModelForTokenClassification\n",
    "from transformers import pipeline\n",
    "\n",
    "def get_dict(x,dictionary):\n",
    "    return [dictionary[str(item)] for item in x]\n",
    "def get_larger(x,number):\n",
    "    return [item for item in x if item>number]\n",
    "def compare_larger(x,number):\n",
    "    return any([item>number for item in x])\n",
    "def convert_date(x):\n",
    "    try:\n",
    "        date=pd.Timestamp(x)\n",
    "    except:\n",
    "        date=pd.Timestamp(x.split('-')[0]+'-01-01')\n",
    "    return date"
   ]
  },
  {
   "cell_type": "code",
   "execution_count": 37,
   "id": "b0f63bd6",
   "metadata": {},
   "outputs": [],
   "source": [
    "def cosine_similarity(list1,list2):\n",
    "    # Convert lists to numpy arrays\n",
    "    vector1 = np.array(list1)\n",
    "    vector2 = np.array(list2)\n",
    "\n",
    "    # Calculate dot product\n",
    "    dot_product = np.dot(vector1, vector2)\n",
    "\n",
    "    # Calculate norms\n",
    "    norm1 = np.linalg.norm(vector1)\n",
    "    norm2 = np.linalg.norm(vector2)\n",
    "\n",
    "    # Calculate cosine similarity\n",
    "    cosine_similarity = dot_product / (norm1 * norm2)\n",
    "\n",
    "    return cosine_similarity"
   ]
  },
  {
   "cell_type": "code",
   "execution_count": 38,
   "id": "085f3825",
   "metadata": {},
   "outputs": [],
   "source": [
    "import itertools\n",
    "def select_elements(x):\n",
    "    # 创建一个空列表，用于存储满足条件的元素\n",
    "    selected_elements = []\n",
    "\n",
    "    # 获取DataFrame的行数和列数\n",
    "    n_rows, n_cols = x.shape\n",
    "\n",
    "    # 遍历每个元素，检查索引是否满足条件\n",
    "    for i in range(n_rows):\n",
    "        for j in range(n_cols):\n",
    "            if j < i:\n",
    "                selected_elements.append(x.iloc[i, j])\n",
    "    return selected_elements"
   ]
  },
  {
   "cell_type": "code",
   "execution_count": 39,
   "id": "56bd86cf",
   "metadata": {},
   "outputs": [
    {
     "name": "stderr",
     "output_type": "stream",
     "text": [
      "/tmp/ipykernel_74757/2073867974.py:2: UserWarning: pandas only supports SQLAlchemy connectable (engine/connection) or database string URI or sqlite3 DBAPI2 connection. Other DBAPI2 objects are not tested. Please consider using SQLAlchemy.\n",
      "  df_biotechnology_cpc = pd.read_sql(sql=sql_string, con=connection)\n"
     ]
    },
    {
     "data": {
      "text/html": [
       "<div>\n",
       "<style scoped>\n",
       "    .dataframe tbody tr th:only-of-type {\n",
       "        vertical-align: middle;\n",
       "    }\n",
       "\n",
       "    .dataframe tbody tr th {\n",
       "        vertical-align: top;\n",
       "    }\n",
       "\n",
       "    .dataframe thead th {\n",
       "        text-align: right;\n",
       "    }\n",
       "</style>\n",
       "<table border=\"1\" class=\"dataframe\">\n",
       "  <thead>\n",
       "    <tr style=\"text-align: right;\">\n",
       "      <th></th>\n",
       "      <th>appln_id</th>\n",
       "      <th>cpc_class_symbol</th>\n",
       "    </tr>\n",
       "  </thead>\n",
       "  <tbody>\n",
       "    <tr>\n",
       "      <th>0</th>\n",
       "      <td>2</td>\n",
       "      <td>B01J2219/00718</td>\n",
       "    </tr>\n",
       "    <tr>\n",
       "      <th>1</th>\n",
       "      <td>2</td>\n",
       "      <td>C07K  16/005</td>\n",
       "    </tr>\n",
       "    <tr>\n",
       "      <th>2</th>\n",
       "      <td>2</td>\n",
       "      <td>C07K  16/18</td>\n",
       "    </tr>\n",
       "    <tr>\n",
       "      <th>3</th>\n",
       "      <td>2</td>\n",
       "      <td>C07K  16/241</td>\n",
       "    </tr>\n",
       "    <tr>\n",
       "      <th>4</th>\n",
       "      <td>2</td>\n",
       "      <td>C07K  16/26</td>\n",
       "    </tr>\n",
       "    <tr>\n",
       "      <th>...</th>\n",
       "      <td>...</td>\n",
       "      <td>...</td>\n",
       "    </tr>\n",
       "    <tr>\n",
       "      <th>72735225</th>\n",
       "      <td>575414791</td>\n",
       "      <td>A61B   1/00</td>\n",
       "    </tr>\n",
       "    <tr>\n",
       "      <th>72735226</th>\n",
       "      <td>575414791</td>\n",
       "      <td>A61B   1/00096</td>\n",
       "    </tr>\n",
       "    <tr>\n",
       "      <th>72735227</th>\n",
       "      <td>575414791</td>\n",
       "      <td>G02B  13/04</td>\n",
       "    </tr>\n",
       "    <tr>\n",
       "      <th>72735228</th>\n",
       "      <td>575414791</td>\n",
       "      <td>G02B  23/243</td>\n",
       "    </tr>\n",
       "    <tr>\n",
       "      <th>72735229</th>\n",
       "      <td>575414791</td>\n",
       "      <td>G02B  23/26</td>\n",
       "    </tr>\n",
       "  </tbody>\n",
       "</table>\n",
       "<p>72735230 rows × 2 columns</p>\n",
       "</div>"
      ],
      "text/plain": [
       "           appln_id cpc_class_symbol\n",
       "0                 2   B01J2219/00718\n",
       "1                 2     C07K  16/005\n",
       "2                 2      C07K  16/18\n",
       "3                 2     C07K  16/241\n",
       "4                 2      C07K  16/26\n",
       "...             ...              ...\n",
       "72735225  575414791      A61B   1/00\n",
       "72735226  575414791   A61B   1/00096\n",
       "72735227  575414791      G02B  13/04\n",
       "72735228  575414791     G02B  23/243\n",
       "72735229  575414791      G02B  23/26\n",
       "\n",
       "[72735230 rows x 2 columns]"
      ]
     },
     "execution_count": 39,
     "metadata": {},
     "output_type": "execute_result"
    }
   ],
   "source": [
    "sql_string='select * from \"biotechnology_cpc\"'\n",
    "df_biotechnology_cpc = pd.read_sql(sql=sql_string, con=connection)\n",
    "df_biotechnology_cpc"
   ]
  },
  {
   "cell_type": "code",
   "execution_count": 40,
   "id": "b4f2aadf",
   "metadata": {},
   "outputs": [
    {
     "name": "stderr",
     "output_type": "stream",
     "text": [
      "/tmp/ipykernel_74757/3122283556.py:2: UserWarning: pandas only supports SQLAlchemy connectable (engine/connection) or database string URI or sqlite3 DBAPI2 connection. Other DBAPI2 objects are not tested. Please consider using SQLAlchemy.\n",
      "  biotechnology_basic_info = pd.read_sql(sql=sql_string, con=connection)\n"
     ]
    },
    {
     "data": {
      "text/html": [
       "<div>\n",
       "<style scoped>\n",
       "    .dataframe tbody tr th:only-of-type {\n",
       "        vertical-align: middle;\n",
       "    }\n",
       "\n",
       "    .dataframe tbody tr th {\n",
       "        vertical-align: top;\n",
       "    }\n",
       "\n",
       "    .dataframe thead th {\n",
       "        text-align: right;\n",
       "    }\n",
       "</style>\n",
       "<table border=\"1\" class=\"dataframe\">\n",
       "  <thead>\n",
       "    <tr style=\"text-align: right;\">\n",
       "      <th></th>\n",
       "      <th>appln_id</th>\n",
       "      <th>appln_filing_year</th>\n",
       "    </tr>\n",
       "  </thead>\n",
       "  <tbody>\n",
       "    <tr>\n",
       "      <th>0</th>\n",
       "      <td>72</td>\n",
       "      <td>2004</td>\n",
       "    </tr>\n",
       "    <tr>\n",
       "      <th>1</th>\n",
       "      <td>79</td>\n",
       "      <td>2005</td>\n",
       "    </tr>\n",
       "    <tr>\n",
       "      <th>2</th>\n",
       "      <td>88</td>\n",
       "      <td>2005</td>\n",
       "    </tr>\n",
       "    <tr>\n",
       "      <th>3</th>\n",
       "      <td>116</td>\n",
       "      <td>2006</td>\n",
       "    </tr>\n",
       "    <tr>\n",
       "      <th>4</th>\n",
       "      <td>119</td>\n",
       "      <td>2006</td>\n",
       "    </tr>\n",
       "    <tr>\n",
       "      <th>...</th>\n",
       "      <td>...</td>\n",
       "      <td>...</td>\n",
       "    </tr>\n",
       "    <tr>\n",
       "      <th>10676891</th>\n",
       "      <td>575014548</td>\n",
       "      <td>2021</td>\n",
       "    </tr>\n",
       "    <tr>\n",
       "      <th>10676892</th>\n",
       "      <td>575014578</td>\n",
       "      <td>2021</td>\n",
       "    </tr>\n",
       "    <tr>\n",
       "      <th>10676893</th>\n",
       "      <td>575014590</td>\n",
       "      <td>2021</td>\n",
       "    </tr>\n",
       "    <tr>\n",
       "      <th>10676894</th>\n",
       "      <td>575014598</td>\n",
       "      <td>2021</td>\n",
       "    </tr>\n",
       "    <tr>\n",
       "      <th>10676895</th>\n",
       "      <td>575014602</td>\n",
       "      <td>2021</td>\n",
       "    </tr>\n",
       "  </tbody>\n",
       "</table>\n",
       "<p>10676896 rows × 2 columns</p>\n",
       "</div>"
      ],
      "text/plain": [
       "           appln_id  appln_filing_year\n",
       "0                72               2004\n",
       "1                79               2005\n",
       "2                88               2005\n",
       "3               116               2006\n",
       "4               119               2006\n",
       "...             ...                ...\n",
       "10676891  575014548               2021\n",
       "10676892  575014578               2021\n",
       "10676893  575014590               2021\n",
       "10676894  575014598               2021\n",
       "10676895  575014602               2021\n",
       "\n",
       "[10676896 rows x 2 columns]"
      ]
     },
     "execution_count": 40,
     "metadata": {},
     "output_type": "execute_result"
    }
   ],
   "source": [
    "sql_string='select t.\"appln_id\", t.\"appln_filing_year\" from \"biotechnology_basic_info\" t'\n",
    "biotechnology_basic_info = pd.read_sql(sql=sql_string, con=connection)\n",
    "biotechnology_basic_info"
   ]
  },
  {
   "cell_type": "code",
   "execution_count": 41,
   "id": "4f68f189",
   "metadata": {},
   "outputs": [
    {
     "data": {
      "text/html": [
       "<div>\n",
       "<style scoped>\n",
       "    .dataframe tbody tr th:only-of-type {\n",
       "        vertical-align: middle;\n",
       "    }\n",
       "\n",
       "    .dataframe tbody tr th {\n",
       "        vertical-align: top;\n",
       "    }\n",
       "\n",
       "    .dataframe thead th {\n",
       "        text-align: right;\n",
       "    }\n",
       "</style>\n",
       "<table border=\"1\" class=\"dataframe\">\n",
       "  <thead>\n",
       "    <tr style=\"text-align: right;\">\n",
       "      <th></th>\n",
       "      <th>appln_id</th>\n",
       "      <th>cpc_class_symbol</th>\n",
       "      <th>appln_filing_year</th>\n",
       "      <th>cpc_class_symbol_4</th>\n",
       "    </tr>\n",
       "  </thead>\n",
       "  <tbody>\n",
       "    <tr>\n",
       "      <th>0</th>\n",
       "      <td>2</td>\n",
       "      <td>B01J2219/00718</td>\n",
       "      <td>1992</td>\n",
       "      <td>B01J</td>\n",
       "    </tr>\n",
       "    <tr>\n",
       "      <th>1</th>\n",
       "      <td>2</td>\n",
       "      <td>C07K  16/005</td>\n",
       "      <td>1992</td>\n",
       "      <td>C07K</td>\n",
       "    </tr>\n",
       "    <tr>\n",
       "      <th>2</th>\n",
       "      <td>2</td>\n",
       "      <td>C07K  16/18</td>\n",
       "      <td>1992</td>\n",
       "      <td>C07K</td>\n",
       "    </tr>\n",
       "    <tr>\n",
       "      <th>3</th>\n",
       "      <td>2</td>\n",
       "      <td>C07K  16/241</td>\n",
       "      <td>1992</td>\n",
       "      <td>C07K</td>\n",
       "    </tr>\n",
       "    <tr>\n",
       "      <th>4</th>\n",
       "      <td>2</td>\n",
       "      <td>C07K  16/26</td>\n",
       "      <td>1992</td>\n",
       "      <td>C07K</td>\n",
       "    </tr>\n",
       "    <tr>\n",
       "      <th>...</th>\n",
       "      <td>...</td>\n",
       "      <td>...</td>\n",
       "      <td>...</td>\n",
       "      <td>...</td>\n",
       "    </tr>\n",
       "    <tr>\n",
       "      <th>72735225</th>\n",
       "      <td>575414791</td>\n",
       "      <td>A61B   1/00</td>\n",
       "      <td>2022</td>\n",
       "      <td>A61B</td>\n",
       "    </tr>\n",
       "    <tr>\n",
       "      <th>72735226</th>\n",
       "      <td>575414791</td>\n",
       "      <td>A61B   1/00096</td>\n",
       "      <td>2022</td>\n",
       "      <td>A61B</td>\n",
       "    </tr>\n",
       "    <tr>\n",
       "      <th>72735227</th>\n",
       "      <td>575414791</td>\n",
       "      <td>G02B  13/04</td>\n",
       "      <td>2022</td>\n",
       "      <td>G02B</td>\n",
       "    </tr>\n",
       "    <tr>\n",
       "      <th>72735228</th>\n",
       "      <td>575414791</td>\n",
       "      <td>G02B  23/243</td>\n",
       "      <td>2022</td>\n",
       "      <td>G02B</td>\n",
       "    </tr>\n",
       "    <tr>\n",
       "      <th>72735229</th>\n",
       "      <td>575414791</td>\n",
       "      <td>G02B  23/26</td>\n",
       "      <td>2022</td>\n",
       "      <td>G02B</td>\n",
       "    </tr>\n",
       "  </tbody>\n",
       "</table>\n",
       "<p>72735230 rows × 4 columns</p>\n",
       "</div>"
      ],
      "text/plain": [
       "           appln_id cpc_class_symbol  appln_filing_year cpc_class_symbol_4\n",
       "0                 2   B01J2219/00718               1992               B01J\n",
       "1                 2     C07K  16/005               1992               C07K\n",
       "2                 2      C07K  16/18               1992               C07K\n",
       "3                 2     C07K  16/241               1992               C07K\n",
       "4                 2      C07K  16/26               1992               C07K\n",
       "...             ...              ...                ...                ...\n",
       "72735225  575414791      A61B   1/00               2022               A61B\n",
       "72735226  575414791   A61B   1/00096               2022               A61B\n",
       "72735227  575414791      G02B  13/04               2022               G02B\n",
       "72735228  575414791     G02B  23/243               2022               G02B\n",
       "72735229  575414791      G02B  23/26               2022               G02B\n",
       "\n",
       "[72735230 rows x 4 columns]"
      ]
     },
     "execution_count": 41,
     "metadata": {},
     "output_type": "execute_result"
    }
   ],
   "source": [
    "df_biotechnology_cpc=df_biotechnology_cpc.merge(biotechnology_basic_info,how='left',left_on='appln_id',right_on='appln_id')\n",
    "df_biotechnology_cpc['cpc_class_symbol_4']=df_biotechnology_cpc['cpc_class_symbol'].apply(lambda x:x[0:4])\n",
    "df_biotechnology_cpc"
   ]
  },
  {
   "cell_type": "code",
   "execution_count": 42,
   "id": "f278fcac",
   "metadata": {},
   "outputs": [
    {
     "name": "stdout",
     "output_type": "stream",
     "text": [
      "1995 ----------------------------\n"
     ]
    },
    {
     "name": "stderr",
     "output_type": "stream",
     "text": [
      "100%|█████████████████████████████████████████████████████████████████████████| 123432/123432 [01:36<00:00, 1281.18it/s]\n"
     ]
    },
    {
     "name": "stdout",
     "output_type": "stream",
     "text": [
      "1996 ----------------------------\n"
     ]
    },
    {
     "name": "stderr",
     "output_type": "stream",
     "text": [
      "100%|█████████████████████████████████████████████████████████████████████████| 127826/127826 [01:42<00:00, 1245.68it/s]\n"
     ]
    },
    {
     "name": "stdout",
     "output_type": "stream",
     "text": [
      "1997 ----------------------------\n"
     ]
    },
    {
     "name": "stderr",
     "output_type": "stream",
     "text": [
      "100%|█████████████████████████████████████████████████████████████████████████| 146033/146033 [02:07<00:00, 1148.86it/s]\n"
     ]
    },
    {
     "name": "stdout",
     "output_type": "stream",
     "text": [
      "1998 ----------------------------\n"
     ]
    },
    {
     "name": "stderr",
     "output_type": "stream",
     "text": [
      "100%|█████████████████████████████████████████████████████████████████████████| 162296/162296 [02:32<00:00, 1063.80it/s]\n"
     ]
    },
    {
     "name": "stdout",
     "output_type": "stream",
     "text": [
      "1999 ----------------------------\n"
     ]
    },
    {
     "name": "stderr",
     "output_type": "stream",
     "text": [
      "100%|██████████████████████████████████████████████████████████████████████████| 179484/179484 [03:02<00:00, 981.66it/s]\n"
     ]
    },
    {
     "name": "stdout",
     "output_type": "stream",
     "text": [
      "2000 ----------------------------\n"
     ]
    },
    {
     "name": "stderr",
     "output_type": "stream",
     "text": [
      "100%|██████████████████████████████████████████████████████████████████████████| 208296/208296 [04:09<00:00, 835.09it/s]\n"
     ]
    },
    {
     "name": "stdout",
     "output_type": "stream",
     "text": [
      "2001 ----------------------------\n"
     ]
    },
    {
     "name": "stderr",
     "output_type": "stream",
     "text": [
      "100%|██████████████████████████████████████████████████████████████████████████| 233218/233218 [05:16<00:00, 737.05it/s]\n"
     ]
    },
    {
     "name": "stdout",
     "output_type": "stream",
     "text": [
      "2002 ----------------------------\n"
     ]
    },
    {
     "name": "stderr",
     "output_type": "stream",
     "text": [
      "100%|██████████████████████████████████████████████████████████████████████████| 227882/227882 [05:12<00:00, 730.10it/s]\n"
     ]
    },
    {
     "name": "stdout",
     "output_type": "stream",
     "text": [
      "2003 ----------------------------\n"
     ]
    },
    {
     "name": "stderr",
     "output_type": "stream",
     "text": [
      "100%|██████████████████████████████████████████████████████████████████████████| 246462/246462 [06:03<00:00, 678.29it/s]\n"
     ]
    },
    {
     "name": "stdout",
     "output_type": "stream",
     "text": [
      "2004 ----------------------------\n"
     ]
    },
    {
     "name": "stderr",
     "output_type": "stream",
     "text": [
      "100%|██████████████████████████████████████████████████████████████████████████| 232516/232516 [05:24<00:00, 717.35it/s]\n"
     ]
    },
    {
     "name": "stdout",
     "output_type": "stream",
     "text": [
      "2005 ----------------------------\n"
     ]
    },
    {
     "name": "stderr",
     "output_type": "stream",
     "text": [
      "100%|██████████████████████████████████████████████████████████████████████████| 233431/233431 [05:38<00:00, 690.38it/s]\n"
     ]
    },
    {
     "name": "stdout",
     "output_type": "stream",
     "text": [
      "2006 ----------------------------\n"
     ]
    },
    {
     "name": "stderr",
     "output_type": "stream",
     "text": [
      "100%|██████████████████████████████████████████████████████████████████████████| 239536/239536 [05:54<00:00, 676.57it/s]\n"
     ]
    },
    {
     "name": "stdout",
     "output_type": "stream",
     "text": [
      "2007 ----------------------------\n"
     ]
    },
    {
     "name": "stderr",
     "output_type": "stream",
     "text": [
      "100%|██████████████████████████████████████████████████████████████████████████| 233954/233954 [05:46<00:00, 676.06it/s]\n"
     ]
    },
    {
     "name": "stdout",
     "output_type": "stream",
     "text": [
      "2008 ----------------------------\n"
     ]
    },
    {
     "name": "stderr",
     "output_type": "stream",
     "text": [
      "100%|██████████████████████████████████████████████████████████████████████████| 226528/226528 [05:16<00:00, 715.93it/s]\n"
     ]
    },
    {
     "name": "stdout",
     "output_type": "stream",
     "text": [
      "2009 ----------------------------\n"
     ]
    },
    {
     "name": "stderr",
     "output_type": "stream",
     "text": [
      "100%|██████████████████████████████████████████████████████████████████████████| 225128/225128 [05:19<00:00, 704.50it/s]\n"
     ]
    },
    {
     "name": "stdout",
     "output_type": "stream",
     "text": [
      "2010 ----------------------------\n"
     ]
    },
    {
     "name": "stderr",
     "output_type": "stream",
     "text": [
      "100%|██████████████████████████████████████████████████████████████████████████| 226256/226256 [05:26<00:00, 691.96it/s]\n"
     ]
    },
    {
     "name": "stdout",
     "output_type": "stream",
     "text": [
      "2011 ----------------------------\n"
     ]
    },
    {
     "name": "stderr",
     "output_type": "stream",
     "text": [
      "100%|██████████████████████████████████████████████████████████████████████████| 231115/231115 [05:45<00:00, 668.18it/s]\n"
     ]
    },
    {
     "name": "stdout",
     "output_type": "stream",
     "text": [
      "2012 ----------------------------\n"
     ]
    },
    {
     "name": "stderr",
     "output_type": "stream",
     "text": [
      "100%|██████████████████████████████████████████████████████████████████████████| 238193/238193 [06:09<00:00, 644.46it/s]\n"
     ]
    },
    {
     "name": "stdout",
     "output_type": "stream",
     "text": [
      "2013 ----------------------------\n"
     ]
    },
    {
     "name": "stderr",
     "output_type": "stream",
     "text": [
      "100%|██████████████████████████████████████████████████████████████████████████| 251823/251823 [06:52<00:00, 610.63it/s]\n"
     ]
    },
    {
     "name": "stdout",
     "output_type": "stream",
     "text": [
      "2014 ----------------------------\n"
     ]
    },
    {
     "name": "stderr",
     "output_type": "stream",
     "text": [
      "100%|██████████████████████████████████████████████████████████████████████████| 278863/278863 [08:25<00:00, 551.23it/s]\n"
     ]
    },
    {
     "name": "stdout",
     "output_type": "stream",
     "text": [
      "2015 ----------------------------\n"
     ]
    },
    {
     "name": "stderr",
     "output_type": "stream",
     "text": [
      "100%|██████████████████████████████████████████████████████████████████████████| 283554/283554 [08:54<00:00, 530.36it/s]\n"
     ]
    },
    {
     "name": "stdout",
     "output_type": "stream",
     "text": [
      "2016 ----------------------------\n"
     ]
    },
    {
     "name": "stderr",
     "output_type": "stream",
     "text": [
      "100%|██████████████████████████████████████████████████████████████████████████| 366954/366954 [14:00<00:00, 436.43it/s]\n"
     ]
    },
    {
     "name": "stdout",
     "output_type": "stream",
     "text": [
      "2017 ----------------------------\n"
     ]
    },
    {
     "name": "stderr",
     "output_type": "stream",
     "text": [
      "100%|██████████████████████████████████████████████████████████████████████████| 365093/365093 [13:35<00:00, 447.82it/s]\n"
     ]
    },
    {
     "name": "stdout",
     "output_type": "stream",
     "text": [
      "2018 ----------------------------\n"
     ]
    },
    {
     "name": "stderr",
     "output_type": "stream",
     "text": [
      "100%|██████████████████████████████████████████████████████████████████████████| 388249/388249 [15:01<00:00, 430.53it/s]\n"
     ]
    },
    {
     "name": "stdout",
     "output_type": "stream",
     "text": [
      "2019 ----------------------------\n"
     ]
    },
    {
     "name": "stderr",
     "output_type": "stream",
     "text": [
      "100%|██████████████████████████████████████████████████████████████████████████| 366784/366784 [13:19<00:00, 459.03it/s]\n"
     ]
    },
    {
     "name": "stdout",
     "output_type": "stream",
     "text": [
      "2020 ----------------------------\n"
     ]
    },
    {
     "name": "stderr",
     "output_type": "stream",
     "text": [
      "100%|██████████████████████████████████████████████████████████████████████████| 352257/352257 [11:06<00:00, 528.17it/s]\n"
     ]
    },
    {
     "name": "stdout",
     "output_type": "stream",
     "text": [
      "2021 ----------------------------\n"
     ]
    },
    {
     "name": "stderr",
     "output_type": "stream",
     "text": [
      " 49%|███████████████████████████████████▉                                      | 112714/232221 [02:21<02:30, 794.68it/s]IOPub message rate exceeded.\n",
      "The notebook server will temporarily stop sending output\n",
      "to the client in order to avoid crashing it.\n",
      "To change this limit, set the config variable\n",
      "`--NotebookApp.iopub_msg_rate_limit`.\n",
      "\n",
      "Current values:\n",
      "NotebookApp.iopub_msg_rate_limit=1000.0 (msgs/sec)\n",
      "NotebookApp.rate_limit_window=3.0 (secs)\n",
      "\n"
     ]
    }
   ],
   "source": [
    "filing_year_list=list(range(1995,2023))\n",
    "dict_year_pairs={}\n",
    "for filing_year in filing_year_list:\n",
    "    print(filing_year,'----------------------------')\n",
    "    df_item=df_biotechnology_cpc[df_biotechnology_cpc['appln_filing_year']==filing_year]\n",
    "    pair_list=[]\n",
    "    total_cpc_list=df_item['cpc_class_symbol_4'].unique()\n",
    "    for appln_id in tqdm(df_item['appln_id'].unique()):\n",
    "        cpc_4_list=df_item[df_item['appln_id']==appln_id]['cpc_class_symbol_4'].unique()\n",
    "        cpc_4_pair=list(itertools.combinations(cpc_4_list, 2))\n",
    "        pair_list.append(cpc_4_pair)\n",
    "    year_pairs=list(chain(*pair_list))\n",
    "    dict_year_pairs[filing_year]=year_pairs"
   ]
  },
  {
   "cell_type": "code",
   "execution_count": 32,
   "id": "5edfb528",
   "metadata": {},
   "outputs": [
    {
     "data": {
      "text/plain": [
       "57238"
      ]
     },
     "execution_count": 32,
     "metadata": {},
     "output_type": "execute_result"
    }
   ],
   "source": [
    "len(total_cpc_list)"
   ]
  },
  {
   "cell_type": "code",
   "execution_count": 43,
   "id": "230b5fd3",
   "metadata": {},
   "outputs": [
    {
     "name": "stderr",
     "output_type": "stream",
     "text": [
      "\r\n",
      "  0%|                                                                                            | 0/23 [00:00<?, ?it/s]"
     ]
    },
    {
     "name": "stdout",
     "output_type": "stream",
     "text": [
      "2000 ----------------------------\n"
     ]
    },
    {
     "name": "stderr",
     "output_type": "stream",
     "text": [
      "/tmp/ipykernel_74757/3711813477.py:14: RuntimeWarning: invalid value encountered in scalar divide\n",
      "  cosine_similarity = dot_product / (norm1 * norm2)\n",
      "  4%|███▋                                                                                | 1/23 [00:27<10:11, 27.80s/it]"
     ]
    },
    {
     "name": "stdout",
     "output_type": "stream",
     "text": [
      "2001 ----------------------------\n"
     ]
    },
    {
     "name": "stderr",
     "output_type": "stream",
     "text": [
      "/tmp/ipykernel_74757/3711813477.py:14: RuntimeWarning: invalid value encountered in scalar divide\n",
      "  cosine_similarity = dot_product / (norm1 * norm2)\n",
      "  9%|███████▎                                                                            | 2/23 [00:55<09:47, 27.96s/it]"
     ]
    },
    {
     "name": "stdout",
     "output_type": "stream",
     "text": [
      "2002 ----------------------------\n"
     ]
    },
    {
     "name": "stderr",
     "output_type": "stream",
     "text": [
      "/tmp/ipykernel_74757/3711813477.py:14: RuntimeWarning: invalid value encountered in scalar divide\n",
      "  cosine_similarity = dot_product / (norm1 * norm2)\n",
      " 13%|██████████▉                                                                         | 3/23 [01:24<09:21, 28.07s/it]"
     ]
    },
    {
     "name": "stdout",
     "output_type": "stream",
     "text": [
      "2003 ----------------------------\n"
     ]
    },
    {
     "name": "stderr",
     "output_type": "stream",
     "text": [
      "/tmp/ipykernel_74757/3711813477.py:14: RuntimeWarning: invalid value encountered in scalar divide\n",
      "  cosine_similarity = dot_product / (norm1 * norm2)\n",
      " 17%|██████████████▌                                                                     | 4/23 [01:54<09:10, 28.97s/it]"
     ]
    },
    {
     "name": "stdout",
     "output_type": "stream",
     "text": [
      "2004 ----------------------------\n"
     ]
    },
    {
     "name": "stderr",
     "output_type": "stream",
     "text": [
      "/tmp/ipykernel_74757/3711813477.py:14: RuntimeWarning: invalid value encountered in scalar divide\n",
      "  cosine_similarity = dot_product / (norm1 * norm2)\n",
      " 22%|██████████████████▎                                                                 | 5/23 [02:25<08:57, 29.85s/it]"
     ]
    },
    {
     "name": "stdout",
     "output_type": "stream",
     "text": [
      "2005 ----------------------------\n"
     ]
    },
    {
     "name": "stderr",
     "output_type": "stream",
     "text": [
      "/tmp/ipykernel_74757/3711813477.py:14: RuntimeWarning: invalid value encountered in scalar divide\n",
      "  cosine_similarity = dot_product / (norm1 * norm2)\n",
      " 26%|█████████████████████▉                                                              | 6/23 [02:56<08:30, 30.03s/it]"
     ]
    },
    {
     "name": "stdout",
     "output_type": "stream",
     "text": [
      "2006 ----------------------------\n"
     ]
    },
    {
     "name": "stderr",
     "output_type": "stream",
     "text": [
      "/tmp/ipykernel_74757/3711813477.py:14: RuntimeWarning: invalid value encountered in scalar divide\n",
      "  cosine_similarity = dot_product / (norm1 * norm2)\n",
      " 30%|█████████████████████████▌                                                          | 7/23 [03:28<08:10, 30.65s/it]"
     ]
    },
    {
     "name": "stdout",
     "output_type": "stream",
     "text": [
      "2007 ----------------------------\n"
     ]
    },
    {
     "name": "stderr",
     "output_type": "stream",
     "text": [
      "/tmp/ipykernel_74757/3711813477.py:14: RuntimeWarning: invalid value encountered in scalar divide\n",
      "  cosine_similarity = dot_product / (norm1 * norm2)\n",
      " 35%|█████████████████████████████▏                                                      | 8/23 [03:58<07:36, 30.44s/it]"
     ]
    },
    {
     "name": "stdout",
     "output_type": "stream",
     "text": [
      "2008 ----------------------------\n"
     ]
    },
    {
     "name": "stderr",
     "output_type": "stream",
     "text": [
      "/tmp/ipykernel_74757/3711813477.py:14: RuntimeWarning: invalid value encountered in scalar divide\n",
      "  cosine_similarity = dot_product / (norm1 * norm2)\n",
      " 39%|████████████████████████████████▊                                                   | 9/23 [04:27<06:59, 29.98s/it]"
     ]
    },
    {
     "name": "stdout",
     "output_type": "stream",
     "text": [
      "2009 ----------------------------\n"
     ]
    },
    {
     "name": "stderr",
     "output_type": "stream",
     "text": [
      "/tmp/ipykernel_74757/3711813477.py:14: RuntimeWarning: invalid value encountered in scalar divide\n",
      "  cosine_similarity = dot_product / (norm1 * norm2)\n",
      " 43%|████████████████████████████████████                                               | 10/23 [04:57<06:31, 30.12s/it]"
     ]
    },
    {
     "name": "stdout",
     "output_type": "stream",
     "text": [
      "2010 ----------------------------\n"
     ]
    },
    {
     "name": "stderr",
     "output_type": "stream",
     "text": [
      "/tmp/ipykernel_74757/3711813477.py:14: RuntimeWarning: invalid value encountered in scalar divide\n",
      "  cosine_similarity = dot_product / (norm1 * norm2)\n",
      " 48%|███████████████████████████████████████▋                                           | 11/23 [05:29<06:09, 30.81s/it]"
     ]
    },
    {
     "name": "stdout",
     "output_type": "stream",
     "text": [
      "2011 ----------------------------\n"
     ]
    },
    {
     "name": "stderr",
     "output_type": "stream",
     "text": [
      "/tmp/ipykernel_74757/3711813477.py:14: RuntimeWarning: invalid value encountered in scalar divide\n",
      "  cosine_similarity = dot_product / (norm1 * norm2)\n",
      " 52%|███████████████████████████████████████████▎                                       | 12/23 [06:02<05:43, 31.26s/it]"
     ]
    },
    {
     "name": "stdout",
     "output_type": "stream",
     "text": [
      "2012 ----------------------------\n"
     ]
    },
    {
     "name": "stderr",
     "output_type": "stream",
     "text": [
      "/tmp/ipykernel_74757/3711813477.py:14: RuntimeWarning: invalid value encountered in scalar divide\n",
      "  cosine_similarity = dot_product / (norm1 * norm2)\n",
      " 57%|██████████████████████████████████████████████▉                                    | 13/23 [06:33<05:13, 31.39s/it]"
     ]
    },
    {
     "name": "stdout",
     "output_type": "stream",
     "text": [
      "2013 ----------------------------\n"
     ]
    },
    {
     "name": "stderr",
     "output_type": "stream",
     "text": [
      "/tmp/ipykernel_74757/3711813477.py:14: RuntimeWarning: invalid value encountered in scalar divide\n",
      "  cosine_similarity = dot_product / (norm1 * norm2)\n",
      " 61%|██████████████████████████████████████████████████▌                                | 14/23 [07:05<04:43, 31.48s/it]"
     ]
    },
    {
     "name": "stdout",
     "output_type": "stream",
     "text": [
      "2014 ----------------------------\n"
     ]
    },
    {
     "name": "stderr",
     "output_type": "stream",
     "text": [
      "\r\n",
      " 65%|██████████████████████████████████████████████████████▏                            | 15/23 [07:38<04:14, 31.87s/it]"
     ]
    },
    {
     "name": "stdout",
     "output_type": "stream",
     "text": [
      "2015 ----------------------------\n"
     ]
    },
    {
     "name": "stderr",
     "output_type": "stream",
     "text": [
      "\r\n",
      " 70%|█████████████████████████████████████████████████████████▋                         | 16/23 [08:12<03:47, 32.57s/it]"
     ]
    },
    {
     "name": "stdout",
     "output_type": "stream",
     "text": [
      "2016 ----------------------------\n"
     ]
    },
    {
     "name": "stderr",
     "output_type": "stream",
     "text": [
      "\r\n",
      " 74%|█████████████████████████████████████████████████████████████▎                     | 17/23 [08:47<03:18, 33.16s/it]"
     ]
    },
    {
     "name": "stdout",
     "output_type": "stream",
     "text": [
      "2017 ----------------------------\n"
     ]
    },
    {
     "name": "stderr",
     "output_type": "stream",
     "text": [
      "/tmp/ipykernel_74757/3711813477.py:14: RuntimeWarning: invalid value encountered in scalar divide\n",
      "  cosine_similarity = dot_product / (norm1 * norm2)\n",
      " 78%|████████████████████████████████████████████████████████████████▉                  | 18/23 [09:22<02:49, 33.83s/it]"
     ]
    },
    {
     "name": "stdout",
     "output_type": "stream",
     "text": [
      "2018 ----------------------------\n"
     ]
    },
    {
     "name": "stderr",
     "output_type": "stream",
     "text": [
      "\r\n",
      " 83%|████████████████████████████████████████████████████████████████████▌              | 19/23 [09:58<02:17, 34.46s/it]"
     ]
    },
    {
     "name": "stdout",
     "output_type": "stream",
     "text": [
      "2019 ----------------------------\n"
     ]
    },
    {
     "name": "stderr",
     "output_type": "stream",
     "text": [
      "\r\n",
      " 87%|████████████████████████████████████████████████████████████████████████▏          | 20/23 [10:32<01:43, 34.43s/it]"
     ]
    },
    {
     "name": "stdout",
     "output_type": "stream",
     "text": [
      "2020 ----------------------------\n"
     ]
    },
    {
     "name": "stderr",
     "output_type": "stream",
     "text": [
      "/tmp/ipykernel_74757/3711813477.py:14: RuntimeWarning: invalid value encountered in scalar divide\n",
      "  cosine_similarity = dot_product / (norm1 * norm2)\n",
      " 91%|███████████████████████████████████████████████████████████████████████████▊       | 21/23 [11:08<01:09, 34.91s/it]"
     ]
    },
    {
     "name": "stdout",
     "output_type": "stream",
     "text": [
      "2021 ----------------------------\n"
     ]
    },
    {
     "name": "stderr",
     "output_type": "stream",
     "text": [
      "\r\n",
      " 96%|███████████████████████████████████████████████████████████████████████████████▍   | 22/23 [11:41<00:34, 34.19s/it]"
     ]
    },
    {
     "name": "stdout",
     "output_type": "stream",
     "text": [
      "2022 ----------------------------\n"
     ]
    },
    {
     "name": "stderr",
     "output_type": "stream",
     "text": [
      "/tmp/ipykernel_74757/3711813477.py:14: RuntimeWarning: invalid value encountered in scalar divide\n",
      "  cosine_similarity = dot_product / (norm1 * norm2)\n",
      "100%|███████████████████████████████████████████████████████████████████████████████████| 23/23 [11:55<00:00, 31.13s/it]\n"
     ]
    }
   ],
   "source": [
    "filing_year_list=list(range(2000,2023))\n",
    "for filing_year in tqdm(filing_year_list):\n",
    "    print(filing_year,'----------------------------')\n",
    "    df_item=df_biotechnology_cpc[df_biotechnology_cpc['appln_filing_year'].isin(range(filing_year-0,filing_year+1))]\n",
    "    total_cpc_list=df_item['cpc_class_symbol_4'].unique()\n",
    "    df_matrix=pd.DataFrame(columns=total_cpc_list,index=total_cpc_list)\n",
    "    df_sub=pd.DataFrame(columns=total_cpc_list,index=total_cpc_list)\n",
    "    \n",
    "    dict_pair_count=Counter(chain(*[dict_year_pairs[year] for year in range(filing_year-0,filing_year+1)]))\n",
    "    for k in dict_pair_count.keys():\n",
    "        df_matrix.loc[k[0],k[1]]=dict_pair_count[k]\n",
    "        df_matrix.loc[k[1],k[0]]=dict_pair_count[k]\n",
    "    df_matrix.fillna(0,inplace=True)\n",
    "    df_matrix.to_pickle('matrix/{}_matrix_1.pickle'.format(str(filing_year)))\n",
    "    selected_elements=select_elements(df_matrix)\n",
    "\n",
    "    mean=np.mean(selected_elements)\n",
    "    std=np.std(selected_elements)\n",
    "    df_matrix_st=(df_matrix-mean)/std\n",
    "\n",
    "    selected_elements_st=select_elements(df_matrix_st)\n",
    "    min_value=np.min(selected_elements_st)\n",
    "    max_value=np.max(selected_elements_st)\n",
    "    df_matrix_mm=(df_matrix_st-min_value)/ (max_value - min_value)\n",
    "    df_matrix_mm.to_pickle('matrix/{}_matrix_mm_1.pickle'.format(str(filing_year)))\n",
    "    \n",
    "    # 获取DataFrame的行数和列数\n",
    "    n_rows, n_cols = df_sub.shape\n",
    "\n",
    "    # 遍历每个元素，检查索引是否满足条件\n",
    "    for i in range(n_rows):\n",
    "        for j in range(n_cols):\n",
    "            if j < i:\n",
    "                cosine_similarity_i_j=cosine_similarity(df_matrix_mm.iloc[:, i],df_matrix_mm.iloc[:, j])\n",
    "                df_sub.iloc[i,j]=cosine_similarity_i_j\n",
    "                df_sub.iloc[j,i]=cosine_similarity_i_j\n",
    "    df_sub.to_pickle('matrix/{}_matrix_sub_1.pickle'.format(str(filing_year)))"
   ]
  },
  {
   "cell_type": "code",
   "execution_count": 44,
   "id": "1329b2fb",
   "metadata": {},
   "outputs": [
    {
     "name": "stderr",
     "output_type": "stream",
     "text": [
      "\r\n",
      "  0%|                                                                                            | 0/23 [00:00<?, ?it/s]"
     ]
    },
    {
     "name": "stdout",
     "output_type": "stream",
     "text": [
      "2000 ----------------------------\n"
     ]
    },
    {
     "name": "stderr",
     "output_type": "stream",
     "text": [
      "/tmp/ipykernel_74757/3711813477.py:14: RuntimeWarning: invalid value encountered in scalar divide\n",
      "  cosine_similarity = dot_product / (norm1 * norm2)\n",
      "  4%|███▋                                                                                | 1/23 [00:33<12:16, 33.47s/it]"
     ]
    },
    {
     "name": "stdout",
     "output_type": "stream",
     "text": [
      "2001 ----------------------------\n"
     ]
    },
    {
     "name": "stderr",
     "output_type": "stream",
     "text": [
      "/tmp/ipykernel_74757/3711813477.py:14: RuntimeWarning: invalid value encountered in scalar divide\n",
      "  cosine_similarity = dot_product / (norm1 * norm2)\n",
      "  9%|███████▎                                                                            | 2/23 [01:07<11:55, 34.06s/it]"
     ]
    },
    {
     "name": "stdout",
     "output_type": "stream",
     "text": [
      "2002 ----------------------------\n"
     ]
    },
    {
     "name": "stderr",
     "output_type": "stream",
     "text": [
      "/tmp/ipykernel_74757/3711813477.py:14: RuntimeWarning: invalid value encountered in scalar divide\n",
      "  cosine_similarity = dot_product / (norm1 * norm2)\n",
      " 13%|██████████▉                                                                         | 3/23 [01:42<11:28, 34.41s/it]"
     ]
    },
    {
     "name": "stdout",
     "output_type": "stream",
     "text": [
      "2003 ----------------------------\n"
     ]
    },
    {
     "name": "stderr",
     "output_type": "stream",
     "text": [
      "/tmp/ipykernel_74757/3711813477.py:14: RuntimeWarning: invalid value encountered in scalar divide\n",
      "  cosine_similarity = dot_product / (norm1 * norm2)\n",
      " 17%|██████████████▌                                                                     | 4/23 [02:18<11:03, 34.93s/it]"
     ]
    },
    {
     "name": "stdout",
     "output_type": "stream",
     "text": [
      "2004 ----------------------------\n"
     ]
    },
    {
     "name": "stderr",
     "output_type": "stream",
     "text": [
      "/tmp/ipykernel_74757/3711813477.py:14: RuntimeWarning: invalid value encountered in scalar divide\n",
      "  cosine_similarity = dot_product / (norm1 * norm2)\n",
      " 22%|██████████████████▎                                                                 | 5/23 [02:54<10:37, 35.43s/it]"
     ]
    },
    {
     "name": "stdout",
     "output_type": "stream",
     "text": [
      "2005 ----------------------------\n"
     ]
    },
    {
     "name": "stderr",
     "output_type": "stream",
     "text": [
      "/tmp/ipykernel_74757/3711813477.py:14: RuntimeWarning: invalid value encountered in scalar divide\n",
      "  cosine_similarity = dot_product / (norm1 * norm2)\n",
      " 26%|█████████████████████▉                                                              | 6/23 [03:31<10:10, 35.90s/it]"
     ]
    },
    {
     "name": "stdout",
     "output_type": "stream",
     "text": [
      "2006 ----------------------------\n"
     ]
    },
    {
     "name": "stderr",
     "output_type": "stream",
     "text": [
      "/tmp/ipykernel_74757/3711813477.py:14: RuntimeWarning: invalid value encountered in scalar divide\n",
      "  cosine_similarity = dot_product / (norm1 * norm2)\n",
      " 30%|█████████████████████████▌                                                          | 7/23 [04:09<09:45, 36.57s/it]"
     ]
    },
    {
     "name": "stdout",
     "output_type": "stream",
     "text": [
      "2007 ----------------------------\n"
     ]
    },
    {
     "name": "stderr",
     "output_type": "stream",
     "text": [
      "/tmp/ipykernel_74757/3711813477.py:14: RuntimeWarning: invalid value encountered in scalar divide\n",
      "  cosine_similarity = dot_product / (norm1 * norm2)\n",
      " 35%|█████████████████████████████▏                                                      | 8/23 [04:46<09:09, 36.66s/it]"
     ]
    },
    {
     "name": "stdout",
     "output_type": "stream",
     "text": [
      "2008 ----------------------------\n"
     ]
    },
    {
     "name": "stderr",
     "output_type": "stream",
     "text": [
      "/tmp/ipykernel_74757/3711813477.py:14: RuntimeWarning: invalid value encountered in scalar divide\n",
      "  cosine_similarity = dot_product / (norm1 * norm2)\n",
      " 39%|████████████████████████████████▊                                                   | 9/23 [05:24<08:37, 36.97s/it]"
     ]
    },
    {
     "name": "stdout",
     "output_type": "stream",
     "text": [
      "2009 ----------------------------\n"
     ]
    },
    {
     "name": "stderr",
     "output_type": "stream",
     "text": [
      "/tmp/ipykernel_74757/3711813477.py:14: RuntimeWarning: invalid value encountered in scalar divide\n",
      "  cosine_similarity = dot_product / (norm1 * norm2)\n",
      " 43%|████████████████████████████████████                                               | 10/23 [06:00<07:59, 36.90s/it]"
     ]
    },
    {
     "name": "stdout",
     "output_type": "stream",
     "text": [
      "2010 ----------------------------\n"
     ]
    },
    {
     "name": "stderr",
     "output_type": "stream",
     "text": [
      "/tmp/ipykernel_74757/3711813477.py:14: RuntimeWarning: invalid value encountered in scalar divide\n",
      "  cosine_similarity = dot_product / (norm1 * norm2)\n",
      " 48%|███████████████████████████████████████▋                                           | 11/23 [06:38<07:26, 37.18s/it]"
     ]
    },
    {
     "name": "stdout",
     "output_type": "stream",
     "text": [
      "2011 ----------------------------\n"
     ]
    },
    {
     "name": "stderr",
     "output_type": "stream",
     "text": [
      "/tmp/ipykernel_74757/3711813477.py:14: RuntimeWarning: invalid value encountered in scalar divide\n",
      "  cosine_similarity = dot_product / (norm1 * norm2)\n",
      " 52%|███████████████████████████████████████████▎                                       | 12/23 [07:16<06:49, 37.27s/it]"
     ]
    },
    {
     "name": "stdout",
     "output_type": "stream",
     "text": [
      "2012 ----------------------------\n"
     ]
    },
    {
     "name": "stderr",
     "output_type": "stream",
     "text": [
      "/tmp/ipykernel_74757/3711813477.py:14: RuntimeWarning: invalid value encountered in scalar divide\n",
      "  cosine_similarity = dot_product / (norm1 * norm2)\n",
      " 57%|██████████████████████████████████████████████▉                                    | 13/23 [07:54<06:17, 37.70s/it]"
     ]
    },
    {
     "name": "stdout",
     "output_type": "stream",
     "text": [
      "2013 ----------------------------\n"
     ]
    },
    {
     "name": "stderr",
     "output_type": "stream",
     "text": [
      "/tmp/ipykernel_74757/3711813477.py:14: RuntimeWarning: invalid value encountered in scalar divide\n",
      "  cosine_similarity = dot_product / (norm1 * norm2)\n",
      " 61%|██████████████████████████████████████████████████▌                                | 14/23 [08:33<05:40, 37.87s/it]"
     ]
    },
    {
     "name": "stdout",
     "output_type": "stream",
     "text": [
      "2014 ----------------------------\n"
     ]
    },
    {
     "name": "stderr",
     "output_type": "stream",
     "text": [
      "\r\n",
      " 65%|██████████████████████████████████████████████████████▏                            | 15/23 [09:10<05:02, 37.85s/it]"
     ]
    },
    {
     "name": "stdout",
     "output_type": "stream",
     "text": [
      "2015 ----------------------------\n"
     ]
    },
    {
     "name": "stderr",
     "output_type": "stream",
     "text": [
      "\r\n",
      " 70%|█████████████████████████████████████████████████████████▋                         | 16/23 [09:51<04:30, 38.69s/it]"
     ]
    },
    {
     "name": "stdout",
     "output_type": "stream",
     "text": [
      "2016 ----------------------------\n"
     ]
    },
    {
     "name": "stderr",
     "output_type": "stream",
     "text": [
      "\r\n",
      " 74%|█████████████████████████████████████████████████████████████▎                     | 17/23 [10:31<03:54, 39.11s/it]"
     ]
    },
    {
     "name": "stdout",
     "output_type": "stream",
     "text": [
      "2017 ----------------------------\n"
     ]
    },
    {
     "name": "stderr",
     "output_type": "stream",
     "text": [
      "/tmp/ipykernel_74757/3711813477.py:14: RuntimeWarning: invalid value encountered in scalar divide\n",
      "  cosine_similarity = dot_product / (norm1 * norm2)\n",
      " 78%|████████████████████████████████████████████████████████████████▉                  | 18/23 [11:11<03:16, 39.28s/it]"
     ]
    },
    {
     "name": "stdout",
     "output_type": "stream",
     "text": [
      "2018 ----------------------------\n"
     ]
    },
    {
     "name": "stderr",
     "output_type": "stream",
     "text": [
      "/tmp/ipykernel_74757/3711813477.py:14: RuntimeWarning: invalid value encountered in scalar divide\n",
      "  cosine_similarity = dot_product / (norm1 * norm2)\n",
      " 83%|████████████████████████████████████████████████████████████████████▌              | 19/23 [11:52<02:39, 39.88s/it]"
     ]
    },
    {
     "name": "stdout",
     "output_type": "stream",
     "text": [
      "2019 ----------------------------\n"
     ]
    },
    {
     "name": "stderr",
     "output_type": "stream",
     "text": [
      "/tmp/ipykernel_74757/3711813477.py:14: RuntimeWarning: invalid value encountered in scalar divide\n",
      "  cosine_similarity = dot_product / (norm1 * norm2)\n",
      " 87%|████████████████████████████████████████████████████████████████████████▏          | 20/23 [12:33<02:00, 40.28s/it]"
     ]
    },
    {
     "name": "stdout",
     "output_type": "stream",
     "text": [
      "2020 ----------------------------\n"
     ]
    },
    {
     "name": "stderr",
     "output_type": "stream",
     "text": [
      "\r\n",
      " 91%|███████████████████████████████████████████████████████████████████████████▊       | 21/23 [13:15<01:21, 40.59s/it]"
     ]
    },
    {
     "name": "stdout",
     "output_type": "stream",
     "text": [
      "2021 ----------------------------\n"
     ]
    },
    {
     "name": "stderr",
     "output_type": "stream",
     "text": [
      "\r\n",
      " 96%|███████████████████████████████████████████████████████████████████████████████▍   | 22/23 [13:54<00:40, 40.31s/it]"
     ]
    },
    {
     "name": "stdout",
     "output_type": "stream",
     "text": [
      "2022 ----------------------------\n"
     ]
    },
    {
     "name": "stderr",
     "output_type": "stream",
     "text": [
      "/tmp/ipykernel_74757/3711813477.py:14: RuntimeWarning: invalid value encountered in scalar divide\n",
      "  cosine_similarity = dot_product / (norm1 * norm2)\n",
      "100%|███████████████████████████████████████████████████████████████████████████████████| 23/23 [14:32<00:00, 37.95s/it]\n"
     ]
    }
   ],
   "source": [
    "filing_year_list=list(range(2000,2023))\n",
    "for filing_year in tqdm(filing_year_list):\n",
    "    print(filing_year,'----------------------------')\n",
    "    df_item=df_biotechnology_cpc[df_biotechnology_cpc['appln_filing_year'].isin(range(filing_year-2,filing_year+1))]\n",
    "    total_cpc_list=df_item['cpc_class_symbol_4'].unique()\n",
    "    df_matrix=pd.DataFrame(columns=total_cpc_list,index=total_cpc_list)\n",
    "    df_sub=pd.DataFrame(columns=total_cpc_list,index=total_cpc_list)\n",
    "    \n",
    "    dict_pair_count=Counter(chain(*[dict_year_pairs[year] for year in range(filing_year-2,filing_year+1)]))\n",
    "    for k in dict_pair_count.keys():\n",
    "        df_matrix.loc[k[0],k[1]]=dict_pair_count[k]\n",
    "        df_matrix.loc[k[1],k[0]]=dict_pair_count[k]\n",
    "    df_matrix.fillna(0,inplace=True)\n",
    "    df_matrix.to_pickle('matrix/{}_matrix_3.pickle'.format(str(filing_year)))\n",
    "    selected_elements=select_elements(df_matrix)\n",
    "\n",
    "    mean=np.mean(selected_elements)\n",
    "    std=np.std(selected_elements)\n",
    "    df_matrix_st=(df_matrix-mean)/std\n",
    "\n",
    "    selected_elements_st=select_elements(df_matrix_st)\n",
    "    min_value=np.min(selected_elements_st)\n",
    "    max_value=np.max(selected_elements_st)\n",
    "    df_matrix_mm=(df_matrix_st-min_value)/ (max_value - min_value)\n",
    "    df_matrix_mm.to_pickle('matrix/{}_matrix_mm_3.pickle'.format(str(filing_year)))\n",
    "    \n",
    "    # 获取DataFrame的行数和列数\n",
    "    n_rows, n_cols = df_sub.shape\n",
    "\n",
    "    # 遍历每个元素，检查索引是否满足条件\n",
    "    for i in range(n_rows):\n",
    "        for j in range(n_cols):\n",
    "            if j < i:\n",
    "                cosine_similarity_i_j=cosine_similarity(df_matrix_mm.iloc[:, i],df_matrix_mm.iloc[:, j])\n",
    "                df_sub.iloc[i,j]=cosine_similarity_i_j\n",
    "                df_sub.iloc[j,i]=cosine_similarity_i_j\n",
    "    df_sub.to_pickle('matrix/{}_matrix_sub_3.pickle'.format(str(filing_year)))"
   ]
  },
  {
   "cell_type": "code",
   "execution_count": 20,
   "id": "93279f58",
   "metadata": {},
   "outputs": [
    {
     "data": {
      "text/html": [
       "<div>\n",
       "<style scoped>\n",
       "    .dataframe tbody tr th:only-of-type {\n",
       "        vertical-align: middle;\n",
       "    }\n",
       "\n",
       "    .dataframe tbody tr th {\n",
       "        vertical-align: top;\n",
       "    }\n",
       "\n",
       "    .dataframe thead th {\n",
       "        text-align: right;\n",
       "    }\n",
       "</style>\n",
       "<table border=\"1\" class=\"dataframe\">\n",
       "  <thead>\n",
       "    <tr style=\"text-align: right;\">\n",
       "      <th></th>\n",
       "      <th>A61B</th>\n",
       "      <th>A61K</th>\n",
       "      <th>A61N</th>\n",
       "      <th>A61P</th>\n",
       "      <th>G01T</th>\n",
       "      <th>A61F</th>\n",
       "      <th>A61M</th>\n",
       "      <th>C07K</th>\n",
       "      <th>G01R</th>\n",
       "      <th>H01Q</th>\n",
       "      <th>...</th>\n",
       "      <th>F23M</th>\n",
       "      <th>B27F</th>\n",
       "      <th>F16T</th>\n",
       "      <th>G06J</th>\n",
       "      <th>C21C</th>\n",
       "      <th>B61H</th>\n",
       "      <th>B42B</th>\n",
       "      <th>G99Z</th>\n",
       "      <th>G09D</th>\n",
       "      <th>F41F</th>\n",
       "    </tr>\n",
       "  </thead>\n",
       "  <tbody>\n",
       "    <tr>\n",
       "      <th>A61B</th>\n",
       "      <td>509.119206</td>\n",
       "      <td>0.007905</td>\n",
       "      <td>0.184524</td>\n",
       "      <td>0.002932</td>\n",
       "      <td>0.002449</td>\n",
       "      <td>0.253368</td>\n",
       "      <td>0.264056</td>\n",
       "      <td>0.002115</td>\n",
       "      <td>0.012915</td>\n",
       "      <td>0.003043</td>\n",
       "      <td>...</td>\n",
       "      <td>0.0</td>\n",
       "      <td>0.000037</td>\n",
       "      <td>0.0</td>\n",
       "      <td>0.000000</td>\n",
       "      <td>0.0</td>\n",
       "      <td>0.000000</td>\n",
       "      <td>0.0</td>\n",
       "      <td>0.0</td>\n",
       "      <td>0.0</td>\n",
       "      <td>0.0</td>\n",
       "    </tr>\n",
       "    <tr>\n",
       "      <th>A61K</th>\n",
       "      <td>0.007905</td>\n",
       "      <td>461.703952</td>\n",
       "      <td>0.012618</td>\n",
       "      <td>0.809946</td>\n",
       "      <td>0.007348</td>\n",
       "      <td>0.004565</td>\n",
       "      <td>0.032919</td>\n",
       "      <td>0.519057</td>\n",
       "      <td>0.000779</td>\n",
       "      <td>0.002858</td>\n",
       "      <td>...</td>\n",
       "      <td>0.0</td>\n",
       "      <td>0.000000</td>\n",
       "      <td>0.0</td>\n",
       "      <td>0.000074</td>\n",
       "      <td>0.0</td>\n",
       "      <td>0.000000</td>\n",
       "      <td>0.0</td>\n",
       "      <td>0.0</td>\n",
       "      <td>0.0</td>\n",
       "      <td>0.0</td>\n",
       "    </tr>\n",
       "    <tr>\n",
       "      <th>A61N</th>\n",
       "      <td>0.184524</td>\n",
       "      <td>0.012618</td>\n",
       "      <td>23.693524</td>\n",
       "      <td>0.000854</td>\n",
       "      <td>0.000186</td>\n",
       "      <td>0.009389</td>\n",
       "      <td>0.025051</td>\n",
       "      <td>0.000816</td>\n",
       "      <td>0.000037</td>\n",
       "      <td>0.080163</td>\n",
       "      <td>...</td>\n",
       "      <td>0.0</td>\n",
       "      <td>0.000000</td>\n",
       "      <td>0.0</td>\n",
       "      <td>0.000074</td>\n",
       "      <td>0.0</td>\n",
       "      <td>0.000000</td>\n",
       "      <td>0.0</td>\n",
       "      <td>0.0</td>\n",
       "      <td>0.0</td>\n",
       "      <td>0.0</td>\n",
       "    </tr>\n",
       "    <tr>\n",
       "      <th>A61P</th>\n",
       "      <td>0.002932</td>\n",
       "      <td>0.809946</td>\n",
       "      <td>0.000854</td>\n",
       "      <td>123.562665</td>\n",
       "      <td>0.001522</td>\n",
       "      <td>0.002227</td>\n",
       "      <td>0.062015</td>\n",
       "      <td>0.280794</td>\n",
       "      <td>0.004268</td>\n",
       "      <td>0.001967</td>\n",
       "      <td>...</td>\n",
       "      <td>0.0</td>\n",
       "      <td>0.000000</td>\n",
       "      <td>0.0</td>\n",
       "      <td>0.000000</td>\n",
       "      <td>0.0</td>\n",
       "      <td>0.000000</td>\n",
       "      <td>0.0</td>\n",
       "      <td>0.0</td>\n",
       "      <td>0.0</td>\n",
       "      <td>0.0</td>\n",
       "    </tr>\n",
       "    <tr>\n",
       "      <th>G01T</th>\n",
       "      <td>0.002449</td>\n",
       "      <td>0.007348</td>\n",
       "      <td>0.000186</td>\n",
       "      <td>0.001522</td>\n",
       "      <td>0.224569</td>\n",
       "      <td>0.000779</td>\n",
       "      <td>0.013657</td>\n",
       "      <td>0.000371</td>\n",
       "      <td>0.006940</td>\n",
       "      <td>0.000891</td>\n",
       "      <td>...</td>\n",
       "      <td>0.0</td>\n",
       "      <td>0.000000</td>\n",
       "      <td>0.0</td>\n",
       "      <td>0.000000</td>\n",
       "      <td>0.0</td>\n",
       "      <td>0.000000</td>\n",
       "      <td>0.0</td>\n",
       "      <td>0.0</td>\n",
       "      <td>0.0</td>\n",
       "      <td>0.0</td>\n",
       "    </tr>\n",
       "    <tr>\n",
       "      <th>...</th>\n",
       "      <td>...</td>\n",
       "      <td>...</td>\n",
       "      <td>...</td>\n",
       "      <td>...</td>\n",
       "      <td>...</td>\n",
       "      <td>...</td>\n",
       "      <td>...</td>\n",
       "      <td>...</td>\n",
       "      <td>...</td>\n",
       "      <td>...</td>\n",
       "      <td>...</td>\n",
       "      <td>...</td>\n",
       "      <td>...</td>\n",
       "      <td>...</td>\n",
       "      <td>...</td>\n",
       "      <td>...</td>\n",
       "      <td>...</td>\n",
       "      <td>...</td>\n",
       "      <td>...</td>\n",
       "      <td>...</td>\n",
       "      <td>...</td>\n",
       "    </tr>\n",
       "    <tr>\n",
       "      <th>B61H</th>\n",
       "      <td>0.000000</td>\n",
       "      <td>0.000000</td>\n",
       "      <td>0.000000</td>\n",
       "      <td>0.000000</td>\n",
       "      <td>0.000000</td>\n",
       "      <td>0.000000</td>\n",
       "      <td>0.000000</td>\n",
       "      <td>0.000000</td>\n",
       "      <td>0.000000</td>\n",
       "      <td>0.000000</td>\n",
       "      <td>...</td>\n",
       "      <td>0.0</td>\n",
       "      <td>0.000000</td>\n",
       "      <td>0.0</td>\n",
       "      <td>0.000000</td>\n",
       "      <td>0.0</td>\n",
       "      <td>0.000037</td>\n",
       "      <td>0.0</td>\n",
       "      <td>0.0</td>\n",
       "      <td>0.0</td>\n",
       "      <td>0.0</td>\n",
       "    </tr>\n",
       "    <tr>\n",
       "      <th>B42B</th>\n",
       "      <td>0.000000</td>\n",
       "      <td>0.000000</td>\n",
       "      <td>0.000000</td>\n",
       "      <td>0.000000</td>\n",
       "      <td>0.000000</td>\n",
       "      <td>0.000000</td>\n",
       "      <td>0.000000</td>\n",
       "      <td>0.000000</td>\n",
       "      <td>0.000000</td>\n",
       "      <td>0.000000</td>\n",
       "      <td>...</td>\n",
       "      <td>0.0</td>\n",
       "      <td>0.000000</td>\n",
       "      <td>0.0</td>\n",
       "      <td>0.000000</td>\n",
       "      <td>0.0</td>\n",
       "      <td>0.000000</td>\n",
       "      <td>0.0</td>\n",
       "      <td>0.0</td>\n",
       "      <td>0.0</td>\n",
       "      <td>0.0</td>\n",
       "    </tr>\n",
       "    <tr>\n",
       "      <th>G99Z</th>\n",
       "      <td>0.000000</td>\n",
       "      <td>0.000000</td>\n",
       "      <td>0.000000</td>\n",
       "      <td>0.000000</td>\n",
       "      <td>0.000000</td>\n",
       "      <td>0.000037</td>\n",
       "      <td>0.000000</td>\n",
       "      <td>0.000000</td>\n",
       "      <td>0.000000</td>\n",
       "      <td>0.000000</td>\n",
       "      <td>...</td>\n",
       "      <td>0.0</td>\n",
       "      <td>0.000000</td>\n",
       "      <td>0.0</td>\n",
       "      <td>0.000000</td>\n",
       "      <td>0.0</td>\n",
       "      <td>0.000000</td>\n",
       "      <td>0.0</td>\n",
       "      <td>0.0</td>\n",
       "      <td>0.0</td>\n",
       "      <td>0.0</td>\n",
       "    </tr>\n",
       "    <tr>\n",
       "      <th>G09D</th>\n",
       "      <td>0.000000</td>\n",
       "      <td>0.000000</td>\n",
       "      <td>0.000000</td>\n",
       "      <td>0.000000</td>\n",
       "      <td>0.000000</td>\n",
       "      <td>0.000000</td>\n",
       "      <td>0.000000</td>\n",
       "      <td>0.000000</td>\n",
       "      <td>0.000000</td>\n",
       "      <td>0.000000</td>\n",
       "      <td>...</td>\n",
       "      <td>0.0</td>\n",
       "      <td>0.000000</td>\n",
       "      <td>0.0</td>\n",
       "      <td>0.000000</td>\n",
       "      <td>0.0</td>\n",
       "      <td>0.000000</td>\n",
       "      <td>0.0</td>\n",
       "      <td>0.0</td>\n",
       "      <td>0.0</td>\n",
       "      <td>0.0</td>\n",
       "    </tr>\n",
       "    <tr>\n",
       "      <th>F41F</th>\n",
       "      <td>0.000000</td>\n",
       "      <td>0.000000</td>\n",
       "      <td>0.000000</td>\n",
       "      <td>0.000000</td>\n",
       "      <td>0.000000</td>\n",
       "      <td>0.000000</td>\n",
       "      <td>0.000000</td>\n",
       "      <td>0.000000</td>\n",
       "      <td>0.000000</td>\n",
       "      <td>0.000000</td>\n",
       "      <td>...</td>\n",
       "      <td>0.0</td>\n",
       "      <td>0.000000</td>\n",
       "      <td>0.0</td>\n",
       "      <td>0.000000</td>\n",
       "      <td>0.0</td>\n",
       "      <td>0.000000</td>\n",
       "      <td>0.0</td>\n",
       "      <td>0.0</td>\n",
       "      <td>0.0</td>\n",
       "      <td>0.0</td>\n",
       "    </tr>\n",
       "  </tbody>\n",
       "</table>\n",
       "<p>644 rows × 644 columns</p>\n",
       "</div>"
      ],
      "text/plain": [
       "            A61B        A61K       A61N        A61P      G01T      A61F  \\\n",
       "A61B  509.119206    0.007905   0.184524    0.002932  0.002449  0.253368   \n",
       "A61K    0.007905  461.703952   0.012618    0.809946  0.007348  0.004565   \n",
       "A61N    0.184524    0.012618  23.693524    0.000854  0.000186  0.009389   \n",
       "A61P    0.002932    0.809946   0.000854  123.562665  0.001522  0.002227   \n",
       "G01T    0.002449    0.007348   0.000186    0.001522  0.224569  0.000779   \n",
       "...          ...         ...        ...         ...       ...       ...   \n",
       "B61H    0.000000    0.000000   0.000000    0.000000  0.000000  0.000000   \n",
       "B42B    0.000000    0.000000   0.000000    0.000000  0.000000  0.000000   \n",
       "G99Z    0.000000    0.000000   0.000000    0.000000  0.000000  0.000037   \n",
       "G09D    0.000000    0.000000   0.000000    0.000000  0.000000  0.000000   \n",
       "F41F    0.000000    0.000000   0.000000    0.000000  0.000000  0.000000   \n",
       "\n",
       "          A61M      C07K      G01R      H01Q  ...  F23M      B27F  F16T  \\\n",
       "A61B  0.264056  0.002115  0.012915  0.003043  ...   0.0  0.000037   0.0   \n",
       "A61K  0.032919  0.519057  0.000779  0.002858  ...   0.0  0.000000   0.0   \n",
       "A61N  0.025051  0.000816  0.000037  0.080163  ...   0.0  0.000000   0.0   \n",
       "A61P  0.062015  0.280794  0.004268  0.001967  ...   0.0  0.000000   0.0   \n",
       "G01T  0.013657  0.000371  0.006940  0.000891  ...   0.0  0.000000   0.0   \n",
       "...        ...       ...       ...       ...  ...   ...       ...   ...   \n",
       "B61H  0.000000  0.000000  0.000000  0.000000  ...   0.0  0.000000   0.0   \n",
       "B42B  0.000000  0.000000  0.000000  0.000000  ...   0.0  0.000000   0.0   \n",
       "G99Z  0.000000  0.000000  0.000000  0.000000  ...   0.0  0.000000   0.0   \n",
       "G09D  0.000000  0.000000  0.000000  0.000000  ...   0.0  0.000000   0.0   \n",
       "F41F  0.000000  0.000000  0.000000  0.000000  ...   0.0  0.000000   0.0   \n",
       "\n",
       "          G06J  C21C      B61H  B42B  G99Z  G09D  F41F  \n",
       "A61B  0.000000   0.0  0.000000   0.0   0.0   0.0   0.0  \n",
       "A61K  0.000074   0.0  0.000000   0.0   0.0   0.0   0.0  \n",
       "A61N  0.000074   0.0  0.000000   0.0   0.0   0.0   0.0  \n",
       "A61P  0.000000   0.0  0.000000   0.0   0.0   0.0   0.0  \n",
       "G01T  0.000000   0.0  0.000000   0.0   0.0   0.0   0.0  \n",
       "...        ...   ...       ...   ...   ...   ...   ...  \n",
       "B61H  0.000000   0.0  0.000037   0.0   0.0   0.0   0.0  \n",
       "B42B  0.000000   0.0  0.000000   0.0   0.0   0.0   0.0  \n",
       "G99Z  0.000000   0.0  0.000000   0.0   0.0   0.0   0.0  \n",
       "G09D  0.000000   0.0  0.000000   0.0   0.0   0.0   0.0  \n",
       "F41F  0.000000   0.0  0.000000   0.0   0.0   0.0   0.0  \n",
       "\n",
       "[644 rows x 644 columns]"
      ]
     },
     "execution_count": 20,
     "metadata": {},
     "output_type": "execute_result"
    }
   ],
   "source": [
    "df_matrix_mm"
   ]
  }
 ],
 "metadata": {
  "kernelspec": {
   "display_name": "Python 3 (ipykernel)",
   "language": "python",
   "name": "python3"
  },
  "language_info": {
   "codemirror_mode": {
    "name": "ipython",
    "version": 3
   },
   "file_extension": ".py",
   "mimetype": "text/x-python",
   "name": "python",
   "nbconvert_exporter": "python",
   "pygments_lexer": "ipython3",
   "version": "3.10.14"
  },
  "toc": {
   "base_numbering": 1,
   "nav_menu": {},
   "number_sections": true,
   "sideBar": true,
   "skip_h1_title": false,
   "title_cell": "Table of Contents",
   "title_sidebar": "Contents",
   "toc_cell": false,
   "toc_position": {},
   "toc_section_display": true,
   "toc_window_display": false
  }
 },
 "nbformat": 4,
 "nbformat_minor": 5
}
